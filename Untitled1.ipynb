{
 "cells": [
  {
   "cell_type": "code",
   "execution_count": 1,
   "id": "dcb4ddde",
   "metadata": {},
   "outputs": [],
   "source": [
    "import numpy as np\n",
    "np.set_printoptions(threshold=10000,suppress=True)\n",
    "import pandas as pd\n",
    "import warnings\n",
    "import matplotlib.pyplot as plt\n",
    "warnings.filterwarnings('ignore')\n",
    "from sklearn.preprocessing import StandardScaler, OneHotEncoder"
   ]
  },
  {
   "cell_type": "code",
   "execution_count": 2,
   "id": "9b8d7323",
   "metadata": {},
   "outputs": [],
   "source": [
    "#############################################################################\n",
    "# Partie 1 : Apprentissage supervisé : Feature engineering et Classification#\n",
    "#############################################################################"
   ]
  },
  {
   "cell_type": "code",
   "execution_count": 3,
   "id": "28521402",
   "metadata": {},
   "outputs": [
    {
     "data": {
      "text/html": [
       "<div>\n",
       "<style scoped>\n",
       "    .dataframe tbody tr th:only-of-type {\n",
       "        vertical-align: middle;\n",
       "    }\n",
       "\n",
       "    .dataframe tbody tr th {\n",
       "        vertical-align: top;\n",
       "    }\n",
       "\n",
       "    .dataframe thead th {\n",
       "        text-align: right;\n",
       "    }\n",
       "</style>\n",
       "<table border=\"1\" class=\"dataframe\">\n",
       "  <thead>\n",
       "    <tr style=\"text-align: right;\">\n",
       "      <th></th>\n",
       "      <th>Age</th>\n",
       "      <th>Revenu mensuel en euro</th>\n",
       "      <th>Cotisation annuelle en euros</th>\n",
       "      <th>Duree Contrat par jour</th>\n",
       "      <th>Type d Assurance</th>\n",
       "      <th>Profession</th>\n",
       "      <th>Situation Familiale</th>\n",
       "      <th>Client ou pas</th>\n",
       "    </tr>\n",
       "  </thead>\n",
       "  <tbody>\n",
       "    <tr>\n",
       "      <th>0</th>\n",
       "      <td>44</td>\n",
       "      <td>2500</td>\n",
       "      <td>648.0</td>\n",
       "      <td>365</td>\n",
       "      <td>auto</td>\n",
       "      <td>Salarié</td>\n",
       "      <td>Marié</td>\n",
       "      <td>Oui</td>\n",
       "    </tr>\n",
       "    <tr>\n",
       "      <th>1</th>\n",
       "      <td>30</td>\n",
       "      <td>2100</td>\n",
       "      <td>1330.8</td>\n",
       "      <td>365</td>\n",
       "      <td>auto</td>\n",
       "      <td>Salarié</td>\n",
       "      <td>Marié</td>\n",
       "      <td>Oui</td>\n",
       "    </tr>\n",
       "    <tr>\n",
       "      <th>2</th>\n",
       "      <td>78</td>\n",
       "      <td>1500</td>\n",
       "      <td>441.6</td>\n",
       "      <td>365</td>\n",
       "      <td>auto</td>\n",
       "      <td>Retraité</td>\n",
       "      <td>Marié</td>\n",
       "      <td>Oui</td>\n",
       "    </tr>\n",
       "    <tr>\n",
       "      <th>3</th>\n",
       "      <td>30</td>\n",
       "      <td>2000</td>\n",
       "      <td>60.0</td>\n",
       "      <td>15</td>\n",
       "      <td>auto_temporaire</td>\n",
       "      <td>Salarié</td>\n",
       "      <td>Célibataire</td>\n",
       "      <td>Non</td>\n",
       "    </tr>\n",
       "    <tr>\n",
       "      <th>4</th>\n",
       "      <td>45</td>\n",
       "      <td>3000</td>\n",
       "      <td>1332.0</td>\n",
       "      <td>365</td>\n",
       "      <td>mutuelle</td>\n",
       "      <td>Cadre</td>\n",
       "      <td>Marié</td>\n",
       "      <td>Oui</td>\n",
       "    </tr>\n",
       "  </tbody>\n",
       "</table>\n",
       "</div>"
      ],
      "text/plain": [
       "   Age  Revenu mensuel en euro  Cotisation annuelle en euros  \\\n",
       "0   44                    2500                         648.0   \n",
       "1   30                    2100                        1330.8   \n",
       "2   78                    1500                         441.6   \n",
       "3   30                    2000                          60.0   \n",
       "4   45                    3000                        1332.0   \n",
       "\n",
       "   Duree Contrat par jour Type d Assurance Profession Situation Familiale  \\\n",
       "0                     365             auto    Salarié               Marié   \n",
       "1                     365             auto    Salarié               Marié   \n",
       "2                     365             auto   Retraité               Marié   \n",
       "3                      15  auto_temporaire    Salarié         Célibataire   \n",
       "4                     365         mutuelle      Cadre               Marié   \n",
       "\n",
       "  Client ou pas  \n",
       "0           Oui  \n",
       "1           Oui  \n",
       "2           Oui  \n",
       "3           Non  \n",
       "4           Oui  "
      ]
     },
     "execution_count": 3,
     "metadata": {},
     "output_type": "execute_result"
    }
   ],
   "source": [
    "#########################\n",
    "# Importer les données :#\n",
    " ########################\n",
    "donnees = pd.read_excel(\"C:/Users/HP/Desktop/AssuranceData.xlsx\")\n",
    "donnees.head()"
   ]
  },
  {
   "cell_type": "code",
   "execution_count": 4,
   "id": "2330d4b2",
   "metadata": {},
   "outputs": [
    {
     "data": {
      "text/plain": [
       "Oui    0.574074\n",
       "Non    0.425926\n",
       "Name: Client ou pas, dtype: float64"
      ]
     },
     "execution_count": 4,
     "metadata": {},
     "output_type": "execute_result"
    }
   ],
   "source": [
    "donnees['Client ou pas'].value_counts(normalize=True)"
   ]
  },
  {
   "cell_type": "code",
   "execution_count": 5,
   "id": "015bae11",
   "metadata": {},
   "outputs": [],
   "source": [
    "# transformation des données vers array : \n",
    "X=donnees.values "
   ]
  },
  {
   "cell_type": "code",
   "execution_count": 6,
   "id": "8cf61418",
   "metadata": {},
   "outputs": [],
   "source": [
    "# séparer les features catégorielles et les features numériques.\n",
    "col_cat=[4,5,6] # les colonnes catégorielles\n",
    "col_num=[0,1,2,3] # les colonnes numériques\n",
    "X_cat = np.copy(X[:, col_cat]) \n",
    "X_num = np.copy(X[:, col_num]) "
   ]
  },
  {
   "cell_type": "code",
   "execution_count": 7,
   "id": "e8b5d7c6",
   "metadata": {},
   "outputs": [],
   "source": [
    "# normaliser les X_num :\n",
    "SS=StandardScaler()\n",
    "SS.fit(X_num)\n",
    "X_num_normalisee=SS.transform(X_num) \n",
    "# Traitement de variables catégorielles :\n",
    "X_cat_bin = OneHotEncoder().fit_transform(X_cat).toarray()"
   ]
  },
  {
   "cell_type": "code",
   "execution_count": 8,
   "id": "5c443455",
   "metadata": {},
   "outputs": [],
   "source": [
    "XX=np.concatenate((X_num_normalisee,X_cat_bin),axis=1)"
   ]
  },
  {
   "cell_type": "code",
   "execution_count": 9,
   "id": "4f0d5d25",
   "metadata": {},
   "outputs": [],
   "source": [
    "Y=X[:,-1]"
   ]
  },
  {
   "cell_type": "code",
   "execution_count": 10,
   "id": "f8631153",
   "metadata": {},
   "outputs": [],
   "source": [
    "for i in range(len(Y)):\n",
    "    if (Y[i]=='Non'):\n",
    "        Y[i]=0\n",
    "    else :\n",
    "        Y[i]=1"
   ]
  },
  {
   "cell_type": "code",
   "execution_count": 11,
   "id": "c27f0a15",
   "metadata": {},
   "outputs": [
    {
     "data": {
      "text/plain": [
       "dtype('float64')"
      ]
     },
     "execution_count": 11,
     "metadata": {},
     "output_type": "execute_result"
    }
   ],
   "source": [
    "Y=Y.astype('float')\n",
    "Y.dtype"
   ]
  },
  {
   "cell_type": "code",
   "execution_count": 12,
   "id": "fec43dfc",
   "metadata": {},
   "outputs": [],
   "source": [
    "#Importer les librairies nécessaires pour faire nos algorithmes\n",
    "from sklearn.model_selection import train_test_split\n",
    "from sklearn.tree import DecisionTreeClassifier\n",
    "from sklearn.linear_model import LogisticRegression\n",
    "from sklearn.ensemble import RandomForestClassifier, BaggingClassifier , AdaBoostClassifier\n",
    "from sklearn.naive_bayes import GaussianNB\n",
    "from sklearn.metrics import accuracy_score,confusion_matrix,precision_score\n",
    "from sklearn.neighbors import KNeighborsClassifier\n",
    "from sklearn.neural_network import MLPClassifier\n",
    "from sklearn.metrics import f1_score,precision_score, accuracy_score\n",
    "from sklearn.model_selection import cross_val_score\n",
    "from sklearn.model_selection import GridSearchCV"
   ]
  },
  {
   "cell_type": "code",
   "execution_count": 13,
   "id": "5996c663",
   "metadata": {},
   "outputs": [],
   "source": [
    "#Séparer les données d’apprentissages des données de test pour ne pas avoir un résultat biaisé\n",
    "Xtrain,Xtest,Ytrain,Ytest=train_test_split(XX,Y,random_state=1, test_size=0.5)"
   ]
  },
  {
   "cell_type": "code",
   "execution_count": 14,
   "id": "c643fc06",
   "metadata": {},
   "outputs": [],
   "source": [
    "clfs = {\n",
    "'RF': RandomForestClassifier(n_estimators=200, random_state=1),\n",
    "'KNN': KNeighborsClassifier(n_neighbors=10),\n",
    "'MLP': MLPClassifier(hidden_layer_sizes=(20,10), random_state=1),\n",
    "'BGC': BaggingClassifier(n_estimators=200, random_state=1),\n",
    "'AB': AdaBoostClassifier(n_estimators=200, random_state=1),\n",
    "'AC': DecisionTreeClassifier(criterion='gini',random_state=1),\n",
    "'AID3': DecisionTreeClassifier(criterion='entropy',random_state=1),\n",
    "'NBS': GaussianNB(),\n",
    "'LR': LogisticRegression()\n",
    "}"
   ]
  },
  {
   "cell_type": "code",
   "execution_count": 15,
   "id": "c94e2304",
   "metadata": {},
   "outputs": [],
   "source": [
    "from sklearn.model_selection import KFold, cross_validate # ,cross_val_score\n",
    "kf = KFold(n_splits=10, shuffle=True, random_state=0)\n",
    "import time\n",
    "\n",
    "def run_classifiers(clfs,Xtrain,Ytrain):\n",
    "    for i in clfs:\n",
    "        clf = clfs[i]\n",
    "        scores_accuracy = cross_val_score(clf, Xtrain, Ytrain, cv=5, scoring='accuracy')\n",
    "        scores_precision = cross_val_score(clf, Xtrain, Ytrain, cv=5, scoring='precision')\n",
    "        print(\"\\n \\n the score for {0} is: {1:.3f}\".format(i, (np.mean(scores_accuracy)+np.mean(scores_precision))/2))"
   ]
  },
  {
   "cell_type": "code",
   "execution_count": 16,
   "id": "b6dda2b8",
   "metadata": {},
   "outputs": [
    {
     "name": "stdout",
     "output_type": "stream",
     "text": [
      "\n",
      " \n",
      " the score for RF is: 0.957\n",
      "\n",
      " \n",
      " the score for KNN is: 0.721\n",
      "\n",
      " \n",
      " the score for MLP is: 0.747\n",
      "\n",
      " \n",
      " the score for BGC is: 0.951\n",
      "\n",
      " \n",
      " the score for AB is: 0.905\n",
      "\n",
      " \n",
      " the score for AC is: 0.944\n",
      "\n",
      " \n",
      " the score for AID3 is: 0.951\n",
      "\n",
      " \n",
      " the score for NBS is: 0.777\n",
      "\n",
      " \n",
      " the score for LR is: 0.744\n"
     ]
    }
   ],
   "source": [
    "run_classifiers(clfs,Xtrain,Ytrain)"
   ]
  },
  {
   "cell_type": "code",
   "execution_count": 17,
   "id": "49c8bc2c",
   "metadata": {},
   "outputs": [
    {
     "name": "stdout",
     "output_type": "stream",
     "text": [
      "{'criterion': 'entropy', 'n_estimators': 200}\n"
     ]
    }
   ],
   "source": [
    "# Paramétrage des classifieurs :\n",
    "Notre_modele=RandomForestClassifier(random_state=1)\n",
    "param_grid = {'n_estimators': [10, 50, 100, 200,300,400,500,600,700,800,900,1000],'criterion':('entropy','gini')}\n",
    "grid=GridSearchCV(Notre_modele,param_grid,cv=5,scoring='accuracy')\n",
    "grid.fit(Xtrain,Ytrain)\n",
    "print(grid.best_params_)"
   ]
  },
  {
   "cell_type": "code",
   "execution_count": 18,
   "id": "29a3e020",
   "metadata": {},
   "outputs": [],
   "source": [
    "Notre_modele=grid.best_estimator_"
   ]
  },
  {
   "cell_type": "code",
   "execution_count": 19,
   "id": "b112f6ae",
   "metadata": {},
   "outputs": [
    {
     "name": "stdout",
     "output_type": "stream",
     "text": [
      "the score is 99.38%\n"
     ]
    }
   ],
   "source": [
    "Notre_modele.fit(Xtrain,Ytrain)\n",
    "YNotre_modele=Notre_modele.predict(Xtest)\n",
    "print(\"the score is {0:.2f}%\".format(((accuracy_score(Ytest,YNotre_modele)+precision_score(Ytest,YNotre_modele))/2)*100))"
   ]
  },
  {
   "cell_type": "code",
   "execution_count": null,
   "id": "c3b71b6a",
   "metadata": {},
   "outputs": [],
   "source": []
  }
 ],
 "metadata": {
  "kernelspec": {
   "display_name": "Python 3 (ipykernel)",
   "language": "python",
   "name": "python3"
  },
  "language_info": {
   "codemirror_mode": {
    "name": "ipython",
    "version": 3
   },
   "file_extension": ".py",
   "mimetype": "text/x-python",
   "name": "python",
   "nbconvert_exporter": "python",
   "pygments_lexer": "ipython3",
   "version": "3.9.13"
  }
 },
 "nbformat": 4,
 "nbformat_minor": 5
}
